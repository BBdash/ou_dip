{
  "nbformat": 4,
  "nbformat_minor": 0,
  "metadata": {
    "colab": {
      "name": "ou_dip_08.ipynb",
      "provenance": [],
      "collapsed_sections": [],
      "authorship_tag": "ABX9TyP6Ps6254gtBWN8C0JbriQP",
      "include_colab_link": true
    },
    "kernelspec": {
      "name": "python3",
      "display_name": "Python 3"
    }
  },
  "cells": [
    {
      "cell_type": "markdown",
      "metadata": {
        "id": "view-in-github",
        "colab_type": "text"
      },
      "source": [
        "<a href=\"https://colab.research.google.com/github/fumio125/ou_dip/blob/master/ou_dip_08.ipynb\" target=\"_parent\"><img src=\"https://colab.research.google.com/assets/colab-badge.svg\" alt=\"Open In Colab\"/></a>"
      ]
    },
    {
      "cell_type": "code",
      "metadata": {
        "id": "9M8iy3fwt4ez"
      },
      "source": [
        "import cv2\n",
        "import numpy as np  # PythonのOpenCVでは、画像はnumpyのarrayとして管理される\n",
        "from google.colab.patches import cv2_imshow # colab内で画像表示関数がうまく動かないので、パッチが提供されている\n",
        "\n",
        "# Googleドライブへのマウント\n",
        "from google.colab import drive\n",
        "drive.mount('/content/drive')\n",
        "%cd \"/content/drive/My Drive/Colab Notebooks/ou_dip/\""
      ],
      "execution_count": null,
      "outputs": []
    },
    {
      "cell_type": "code",
      "metadata": {
        "id": "ibJMz5WeuKzB"
      },
      "source": [
        "src = cv2.imread(\"prims.png\", cv2.IMREAD_GRAYSCALE) # 画像はgithub内に\n",
        "noise = np.random.normal(0.0, 32.0, src.shape) # ノイズ付加\n",
        "src = np.clip(src + noise,0,255).astype(np.uint8)\n",
        "cv2_imshow(src)"
      ],
      "execution_count": null,
      "outputs": []
    },
    {
      "cell_type": "code",
      "metadata": {
        "id": "vp_2aiGCuQGH"
      },
      "source": [
        "# 閾値128で2値化\n",
        "retval, binary = cv2.threshold(src,128,255,cv2.THRESH_BINARY)\n",
        "print(\"Binarized by\", retval)\n",
        "cv2_imshow(binary)\n",
        "\n",
        "# 大津の2値化\n",
        "retval, binary_otsu = cv2.threshold(src,0,255,cv2.THRESH_OTSU)\n",
        "print(\"Otsu's thresholding: threshold=\",retval)\n",
        "cv2_imshow(binary_otsu)"
      ],
      "execution_count": null,
      "outputs": []
    },
    {
      "cell_type": "code",
      "metadata": {
        "id": "cjqkioUfvNzY"
      },
      "source": [
        "# 8近傍カーネル（8近傍と自身がすべて1）\n",
        "kernel8 = np.ones((3,3),np.uint8)\n",
        "\n",
        "# dilation\n",
        "print(\"dilation\")\n",
        "dilation = cv2.dilate(binary_otsu,kernel8,iterations = 1)\n",
        "cv2_imshow(dilation)\n",
        "\n",
        "# erosion\n",
        "print(\"erosion\")\n",
        "erosion = cv2.erode(binary_otsu,kernel8,iterations = 1)\n",
        "cv2_imshow(erosion)\n",
        "\n",
        "# opening\n",
        "print(\"opening\")\n",
        "opening = cv2.morphologyEx(binary_otsu, cv2.MORPH_OPEN, kernel8)\n",
        "cv2_imshow(opening)\n",
        "\n",
        "# opening\n",
        "print(\"closing\")\n",
        "closing = cv2.morphologyEx(binary_otsu, cv2.MORPH_CLOSE, kernel8)\n",
        "cv2_imshow(closing)\n",
        "\n",
        "# a combination of opening & closing\n",
        "print(\"combination of opening & closing\")\n",
        "dst = cv2.morphologyEx(binary_otsu, cv2.MORPH_CLOSE, kernel8,iterations=2)\n",
        "dst = cv2.morphologyEx(dst, cv2.MORPH_OPEN, kernel8,iterations=2)\n",
        "cv2_imshow(dst)"
      ],
      "execution_count": null,
      "outputs": []
    },
    {
      "cell_type": "code",
      "metadata": {
        "id": "YW0wsLTKzoE5"
      },
      "source": [
        "# labeling\n",
        "n_labels, labels, data, center = cv2.connectedComponentsWithStats(dst)\n",
        "print(\"[labeling] n_labels:\", n_labels)"
      ],
      "execution_count": null,
      "outputs": []
    },
    {
      "cell_type": "code",
      "metadata": {
        "id": "BM11g5flwQxL"
      },
      "source": [
        "# first component (0: background)\n",
        "obj = ((labels==1)*255).astype(np.uint8)\n",
        "cv2_imshow(obj)\n",
        "\n",
        "# moments\n",
        "M = cv2.moments(obj)\n",
        "print(\"moments\", M)\n",
        "\n",
        "# area\n",
        "print(\"area =\",M['m00'])\n",
        "\n",
        "# center\n",
        "cx = (M['m10']/M['m00'])\n",
        "cy = (M['m01']/M['m00'])\n",
        "print(\"center = (\",cx,\",\",cy,\")\")\n",
        "\n",
        "# 主軸を求めてみよう（提出不要）\n",
        "\n"
      ],
      "execution_count": null,
      "outputs": []
    },
    {
      "cell_type": "markdown",
      "metadata": {
        "id": "CJ4plp2v2_Io"
      },
      "source": [
        "参考\n",
        "\n",
        "https://opencv-python-tutroals.readthedocs.io/en/latest/py_tutorials/py_imgproc/py_thresholding/py_thresholding.html\n",
        "https://opencv-python-tutroals.readthedocs.io/en/latest/py_tutorials/py_imgproc/py_morphological_ops/py_morphological_ops.html"
      ]
    }
  ]
}