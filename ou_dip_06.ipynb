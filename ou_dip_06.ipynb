{
  "nbformat": 4,
  "nbformat_minor": 0,
  "metadata": {
    "colab": {
      "name": "ou_dip_06.ipynb",
      "provenance": [],
      "collapsed_sections": [],
      "authorship_tag": "ABX9TyMM9E9fXaApjiag2+jLvWI+",
      "include_colab_link": true
    },
    "kernelspec": {
      "name": "python3",
      "display_name": "Python 3"
    }
  },
  "cells": [
    {
      "cell_type": "markdown",
      "metadata": {
        "id": "view-in-github",
        "colab_type": "text"
      },
      "source": [
        "<a href=\"https://colab.research.google.com/github/fumio125/ou_dip/blob/master/ou_dip_06.ipynb\" target=\"_parent\"><img src=\"https://colab.research.google.com/assets/colab-badge.svg\" alt=\"Open In Colab\"/></a>"
      ]
    },
    {
      "cell_type": "code",
      "metadata": {
        "id": "3XKz9Xahfn4w"
      },
      "source": [
        "import cv2\n",
        "import numpy as np  # PythonのOpenCVでは、画像はnumpyのarrayとして管理される\n",
        "from google.colab.patches import cv2_imshow # colab内で画像表示関数がうまく動かないので、パッチが提供されている\n",
        "\n",
        "# Googleドライブへのマウント\n",
        "from google.colab import drive\n",
        "drive.mount('/content/drive')\n",
        "%cd \"/content/drive/My Drive/Colab Notebooks/ou_dip/\""
      ],
      "execution_count": null,
      "outputs": []
    },
    {
      "cell_type": "code",
      "metadata": {
        "id": "xCNQ6UwXgN93"
      },
      "source": [
        "def createSpatialGaussian(size):\n",
        "  # size: 横幅（=縦幅）。5x5なら5。奇数にすること\n",
        "  # 半径 ((size-1)/2) の半分、としてガウス分布の標準偏差sigmaを設定（5x5のとき、sigma=1）\n",
        "  sigma = (size-1) / 4\n",
        "  gauss_1d = cv2.getGaussianKernel(size, sigma) \n",
        "  gauss_2d = np.matmul(gauss_1d, gauss_1d.T)\n",
        "\n",
        "  return gauss_2d\n",
        "\n",
        "def createFrequencyGaussian(spatial_filter, img):\n",
        "  # 空間フィルタをDFTして周波数フィルタを生成（他の方法もあるが、実装が楽なので）\n",
        "  # spatial_filter: 空間フィルタ, img: 入力画像\n",
        "  gauss_freq = np.zeros(img.shape)\n",
        "  gauss_freq[0:size,0:size] = spatial_filter  # 左上にコピー\n",
        "  gauss_freq = cv2.dft(gauss_freq.astype(np.float32), flags=cv2.DFT_COMPLEX_OUTPUT) # 1ch目に実部、2ch目に虚数部\n",
        "\n",
        "  # 可視化用\n",
        "  re, im = cv2.split(gauss_freq)\n",
        "  gauss_freq = cv2.magnitude(re, im)\n",
        "  gauss_freq = gauss_freq / np.max(gauss_freq)\n",
        "\n",
        "  return gauss_freq\n",
        "\n",
        "# numpyのみを使ったconvolve2dの実装（einsum）\n",
        "# https://stackoverflow.com/questions/43086557/convolve2d-just-by-using-numpy\n",
        "# https://qiita.com/secang0/items/f3a3ff629988dc660d87\n",
        "def convolve2d(img, kernel):\n",
        "    #部分行列の大きさを計算\n",
        "    sub_shape = tuple(np.subtract(img.shape, kernel.shape) + 1)\n",
        "\n",
        "    #部分行列の行列を作成\n",
        "    submatrices = np.lib.stride_tricks.as_strided(img,kernel.shape + sub_shape,img.strides * 2)\n",
        "\n",
        "    #部分行列とカーネルのアインシュタイン和を計算\n",
        "    convolved_matrix = np.einsum('ij,ijkl->kl', kernel, submatrices)\n",
        "\n",
        "    return convolved_matrix"
      ],
      "execution_count": 2,
      "outputs": []
    },
    {
      "cell_type": "code",
      "metadata": {
        "id": "h6sYL737r_MI"
      },
      "source": [
        "# 準備：画像の読み込みとフィルタの生成\n",
        "size = 11 # フィルタサイズ\n",
        "\n",
        "#src = cv2.imread(\"sample.jpg\", cv2.IMREAD_GRAYSCALE) # 画像読み込み\n",
        "src = cv2.imread(\"pano_ref.jpg\", cv2.IMREAD_GRAYSCALE) # 画像読み込み\n",
        "\n",
        "spatial_filter = createSpatialGaussian(size)\n",
        "print('Spatial filter:')\n",
        "cv2_imshow(spatial_filter / np.max(spatial_filter) * 255) # 最大値が255になるようにして表示\n",
        "\n",
        "print('Frequency filter:')\n",
        "freq_filter = createFrequencyGaussian(size, src)  # 左上原点！\n",
        "cv2_imshow(freq_filter  * 255) # 最大値が255になるようにして表示\n"
      ],
      "execution_count": null,
      "outputs": []
    },
    {
      "cell_type": "code",
      "metadata": {
        "id": "W063BbdPip9D"
      },
      "source": [
        "# 空間フィルタ\n",
        "from scipy import signal\n",
        "import time\n",
        "\n",
        "start_time = time.perf_counter()\n",
        "\n",
        "dst = convolve2d(src,spatial_filter)  # 外部領域は切られる実装\n",
        "\n",
        "elapsed_time = time.perf_counter() - start_time\n",
        "print('spatial filtering:', elapsed_time, '[sec]')\n",
        "\n",
        "cv2_imshow(dst)"
      ],
      "execution_count": null,
      "outputs": []
    },
    {
      "cell_type": "code",
      "metadata": {
        "id": "f6GBj58PmUUq"
      },
      "source": [
        "# 周波数フィルタ\n",
        "import time\n",
        "start_time = time.perf_counter()\n",
        "\n",
        "src_freq = cv2.dft(src.astype(np.float32), flags=cv2.DFT_COMPLEX_OUTPUT) # 1ch目に実部、2ch目に虚数部 にしたい場合\n",
        "\n",
        "\n",
        "dst_freq = src_freq * np.dstack((freq_filter,freq_filter))  # 実部・虚数部両方に掛ける\n",
        "dst = cv2.idft(dst_freq, flags=cv2.DFT_SCALE)[:,:,0]  # 逆フーリエ変換\n",
        "\n",
        "elapsed_time = time.perf_counter() - start_time\n",
        "print('frequency filtering:', elapsed_time, '[sec]')\n",
        "\n",
        "# magnitudeの可視化\n",
        "re, im = cv2.split(src_freq)\n",
        "magnitude = cv2.magnitude(re, im)\n",
        "cv2_imshow(magnitude / np.mean(magnitude)*10)\n",
        "\n",
        "cv2_imshow(dst)"
      ],
      "execution_count": null,
      "outputs": []
    },
    {
      "cell_type": "code",
      "metadata": {
        "id": "F0x6fz0e2Ye6"
      },
      "source": [
        "# SciPy (Optimized)\n",
        "import time\n",
        "\n",
        "start_time = time.perf_counter()\n",
        "\n",
        "dst = signal.correlate(src,spatial_filter,'same') # 画像の外側は0になる\n",
        "\n",
        "elapsed_time = time.perf_counter() - start_time\n",
        "print('Scipy filtering (optimized):', elapsed_time, '[sec]')\n",
        "\n",
        "cv2_imshow(dst)"
      ],
      "execution_count": null,
      "outputs": []
    },
    {
      "cell_type": "code",
      "metadata": {
        "id": "2UpaFMGXmbqQ"
      },
      "source": [
        "# OpenCV (Optimized)\n",
        "import time\n",
        "\n",
        "start_time = time.perf_counter()\n",
        "\n",
        "dst = cv2.filter2D(src,-1,spatial_filter) # ddepth=-1とした場合、入出力のchannel数はおなじになる\n",
        "\n",
        "elapsed_time = time.perf_counter() - start_time\n",
        "print('OpenCV filtering (optimized):', elapsed_time, '[sec]')\n",
        "\n",
        "cv2_imshow(dst)"
      ],
      "execution_count": null,
      "outputs": []
    },
    {
      "cell_type": "code",
      "metadata": {
        "id": "le-x8e4tqEvG"
      },
      "source": [
        "# 比較用に関数化\n",
        "import time\n",
        "\n",
        "def spatialFiltering(src, spatial_filter):\n",
        "  start_time = time.perf_counter()\n",
        "  dst = convolve2d(src,spatial_filter)  # 外部領域は切られる実装\n",
        "  elapsed_time = time.perf_counter() - start_time\n",
        "  return elapsed_time\n",
        "\n",
        "def frequencyFiltering(src, freq_filter):\n",
        "  start_time = time.perf_counter()\n",
        "  src_freq = cv2.dft(src.astype(np.float32), flags=cv2.DFT_COMPLEX_OUTPUT) # 1ch目に実部、2ch目に虚数部 にしたい場合\n",
        "  dst_freq = src_freq * np.dstack((freq_filter,freq_filter))  # 実部・虚数部両方に掛ける\n",
        "  dst = cv2.idft(dst_freq, flags=cv2.DFT_SCALE)[:,:,0]  # 逆フーリエ変換\n",
        "  elapsed_time = time.perf_counter() - start_time\n",
        "  return elapsed_time\n",
        "\n",
        "def SciPyFiltering(src, spatial_filter):\n",
        "  start_time = time.perf_counter()\n",
        "  dst = signal.correlate(src,spatial_filter,'same') # 画像の外側は0になる\n",
        "  elapsed_time = time.perf_counter() - start_time\n",
        "  return elapsed_time\n",
        "\n",
        "def OpenCVFiltering(sec, spatial_filter):\n",
        "  start_time = time.perf_counter()\n",
        "  dst = cv2.filter2D(src,-1,spatial_filter) # ddepth=-1とした場合、入出力のchannel数はおなじになる\n",
        "  elapsed_time = time.perf_counter() - start_time\n",
        "  return elapsed_time"
      ],
      "execution_count": 8,
      "outputs": []
    },
    {
      "cell_type": "code",
      "metadata": {
        "id": "zeun6DTm6-ME"
      },
      "source": [
        "# フィルタサイズを変えながら比較\n",
        "\n",
        "x = []\n",
        "spatial_time = []\n",
        "freq_time = []\n",
        "scipy_time = []\n",
        "opencv_time = []\n",
        "\n",
        "#src = cv2.imread(\"sample.jpg\", cv2.IMREAD_GRAYSCALE) # 画像読み込み\n",
        "src = cv2.imread(\"pano_ref.jpg\", cv2.IMREAD_GRAYSCALE) # 画像読み込み\n",
        "\n",
        "for i in range(3,31,2):  \n",
        "  print('filter size:',i)\n",
        "  spatial_filter = createSpatialGaussian(i)\n",
        "  freq_filter = createFrequencyGaussian(i, src)  \n",
        "\n",
        "  spatial_time.append(spatialFiltering(src, spatial_filter))\n",
        "  freq_time.append(frequencyFiltering(src,freq_filter))\n",
        "  scipy_time.append(SciPyFiltering(src, spatial_filter))\n",
        "  opencv_time.append(OpenCVFiltering(src, spatial_filter))\n",
        "  x.append(i)"
      ],
      "execution_count": null,
      "outputs": []
    },
    {
      "cell_type": "code",
      "metadata": {
        "id": "2UrisvzH7WAV"
      },
      "source": [
        "# 描画\n",
        "\n",
        "%matplotlib inline\n",
        "import matplotlib.pyplot as plt\n",
        "\n",
        "fig, ax = plt.subplots()\n",
        "x_axis = np.array(x)\n",
        "ax.plot(x_axis, np.array(spatial_time), label='spatial')\n",
        "ax.plot(x_axis, np.array(freq_time), label='freq')\n",
        "ax.plot(x_axis, np.array(scipy_time), label='scipy')\n",
        "ax.plot(x_axis, np.array(opencv_time), label='opencv')\n",
        "ax.legend(loc=0)    # 凡例"
      ],
      "execution_count": null,
      "outputs": []
    },
    {
      "cell_type": "code",
      "metadata": {
        "id": "56xhoQG9Kls2"
      },
      "source": [
        ""
      ],
      "execution_count": null,
      "outputs": []
    }
  ]
}