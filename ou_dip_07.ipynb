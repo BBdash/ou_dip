{
  "nbformat": 4,
  "nbformat_minor": 0,
  "metadata": {
    "colab": {
      "name": "ou_dip_07.ipynb",
      "provenance": [],
      "collapsed_sections": [],
      "authorship_tag": "ABX9TyMqkYecqOX6bYKyAngEy7uI",
      "include_colab_link": true
    },
    "kernelspec": {
      "name": "python3",
      "display_name": "Python 3"
    }
  },
  "cells": [
    {
      "cell_type": "markdown",
      "metadata": {
        "id": "view-in-github",
        "colab_type": "text"
      },
      "source": [
        "<a href=\"https://colab.research.google.com/github/fumio125/ou_dip/blob/master/ou_dip_07.ipynb\" target=\"_parent\"><img src=\"https://colab.research.google.com/assets/colab-badge.svg\" alt=\"Open In Colab\"/></a>"
      ]
    },
    {
      "cell_type": "code",
      "metadata": {
        "id": "rDmeYopWCVep"
      },
      "source": [
        "import cv2\n",
        "import numpy as np  # PythonのOpenCVでは、画像はnumpyのarrayとして管理される\n",
        "from google.colab.patches import cv2_imshow # colab内で画像表示関数がうまく動かないので、パッチが提供されている\n",
        "\n",
        "# Googleドライブへのマウント\n",
        "from google.colab import drive\n",
        "drive.mount('/content/drive')\n",
        "%cd \"/content/drive/My Drive/Colab Notebooks/ou_dip/\""
      ],
      "execution_count": null,
      "outputs": []
    },
    {
      "cell_type": "code",
      "metadata": {
        "id": "ZlYW0tebCZgH"
      },
      "source": [
        "# 先週のコードと異なり、周波数領域でのエイリアシングを防ぐために画像と同サイズの空間フィルタを作るようにした\n",
        "\n",
        "def createFrequencyGaussian(sigma, img):\n",
        "  # sigma: 対応する空間ガウシアンフィルタのsigma\n",
        "  spatial_1d = cv2.getGaussianKernel(img.shape[0], sigma)   \n",
        "  spatial_filter = np.matmul(spatial_1d, spatial_1d.T)  # 空間フィルタ\n",
        "  # 空間フィルタをDFTして周波数フィルタを生成（他の方法もあるが、実装が楽なので）\n",
        "  gauss_freq = cv2.dft(spatial_filter.astype(np.float32), flags=cv2.DFT_COMPLEX_OUTPUT) # 1ch目に実部、2ch目に虚数部\n",
        "  gauss_freq += 1e-5  # 後段の0割り算を回避するため（本来は、逆フィルタの方で微小値を足すのが良い）\n",
        "\n",
        "  # 最大値が1の周波数空間でのガウス型ローパスフィルタ\n",
        "  re, im = cv2.split(gauss_freq)\n",
        "  gauss_freq = cv2.magnitude(re, im)\n",
        "  gauss_freq = gauss_freq / np.max(gauss_freq)\n",
        "\n",
        "  return gauss_freq"
      ],
      "execution_count": null,
      "outputs": []
    },
    {
      "cell_type": "code",
      "metadata": {
        "id": "lM4E_EAfCe-N"
      },
      "source": [
        "# 準備：画像の読み込みとフィルタの生成\n",
        "sigma = 9 # 対応する空間ガウシアンフィルタのsigma\n",
        "\n",
        "src = cv2.imread(\"sample.jpg\", cv2.IMREAD_GRAYSCALE) # 画像読み込み\n",
        "#src = cv2.imread(\"pano_ref.jpg\", cv2.IMREAD_GRAYSCALE) # 画像読み込み\n",
        "#src = cv2.imread(\"pano_ref_full.jpg\", cv2.IMREAD_GRAYSCALE) # 画像読み込み\n",
        "\n",
        "print('Frequency filter:')\n",
        "freq_filter = createFrequencyGaussian(sigma, src)  # 左上原点！\n",
        "cv2_imshow(freq_filter  * 255) # 最大値が255になるようにして表示"
      ],
      "execution_count": null,
      "outputs": []
    },
    {
      "cell_type": "code",
      "metadata": {
        "id": "LOKbdTf-CiDs"
      },
      "source": [
        "# 周波数フィルタによる画像劣化\n",
        "\n",
        "# 画像をぼかす\n",
        "src_freq = cv2.dft(src.astype(np.float32), flags=cv2.DFT_COMPLEX_OUTPUT) # 1ch目に実部、2ch目に虚数部 にしたい場合\n",
        "blurred_freq = src_freq * np.dstack((freq_filter,freq_filter))  # 実部・虚数部両方に掛ける\n",
        "blurred = cv2.idft(blurred_freq, flags=cv2.DFT_SCALE)[:,:,0]  # 逆フーリエ変換\n",
        "\n",
        "# 微小なノイズを付加する（正規分布 sigma=0.5）\n",
        "noise = np.random.normal(0.0, 0.5, blurred.shape)\n",
        "blurred = blurred + noise # ここをコメントアウトすると、逆フィルタでもきれいに復元できるが。。。？\n",
        "\n",
        "print(\"original image\")\n",
        "cv2_imshow(src)\n",
        "\n",
        "print(\"degraded image\")\n",
        "cv2_imshow(blurred)"
      ],
      "execution_count": null,
      "outputs": []
    },
    {
      "cell_type": "code",
      "metadata": {
        "id": "4zpkFUp8CknF"
      },
      "source": [
        "# 逆フィルタによる画像復元\n",
        "# 劣化画像: blurred, 点拡がり関数のフーリエ変換H: freq_filter\n",
        "\n",
        "# inverse filter\n",
        "inv_filter = 1.0/freq_filter\n",
        "# cv2_imshow((inv_filter-1.0) * 255) # 逆フィルタを可視化したいとき\n",
        "\n",
        "# inverse filterの適用\n",
        "blurred_freq = cv2.dft(blurred.astype(np.float32), flags=cv2.DFT_COMPLEX_OUTPUT) # 1ch目に実部、2ch目に虚数部 にしたい場合\n",
        "deblur_freq = blurred_freq * np.dstack((inv_filter,inv_filter))  # 実部・虚数部両方に掛ける\n",
        "deblur = cv2.idft(deblur_freq, flags=cv2.DFT_SCALE)[:,:,0]  # 逆フーリエ変換\n",
        "\n",
        "# 表示\n",
        "print(\"reconstructed image\")\n",
        "cv2_imshow(deblur)"
      ],
      "execution_count": null,
      "outputs": []
    },
    {
      "cell_type": "code",
      "metadata": {
        "id": "zkqhZxOdCobm"
      },
      "source": [
        "# ウィーナフィルタによる画像復元\n",
        "# 劣化画像: blurred, 点拡がり関数のフーリエ変換H: freq_filter\n",
        "\n",
        "# wiener filter（ここを作成）\n",
        "gamma = \n",
        "wiener_filter = \n",
        "\n",
        "# wiener filterの適用\n",
        "blurred_freq = cv2.dft(blurred.astype(np.float32), flags=cv2.DFT_COMPLEX_OUTPUT) # 1ch目に実部、2ch目に虚数部 にしたい場合\n",
        "deblur_freq = blurred_freq * np.dstack((wiener_filter,wiener_filter))  # 実部・虚数部両方に掛ける\n",
        "deblur = cv2.idft(deblur_freq, flags=cv2.DFT_SCALE)[:,:,0]  # 逆フーリエ変換\n",
        "\n",
        "# 表示\n",
        "print(\"reconstructed image\")\n",
        "cv2_imshow(deblur)"
      ],
      "execution_count": null,
      "outputs": []
    }
  ]
}